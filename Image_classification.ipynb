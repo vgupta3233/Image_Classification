{
  "nbformat": 4,
  "nbformat_minor": 0,
  "metadata": {
    "colab": {
      "provenance": []
    },
    "kernelspec": {
      "name": "python3",
      "display_name": "Python 3"
    },
    "language_info": {
      "name": "python"
    }
  },
  "cells": [
    {
      "cell_type": "code",
      "execution_count": 1,
      "metadata": {
        "id": "cmk6Mhi4YVax"
      },
      "outputs": [],
      "source": [
        "import numpy as np\n",
        "import cv2\n",
        "from matplotlib import pyplot as plt\n",
        "import os\n",
        "import pywt"
      ]
    },
    {
      "cell_type": "code",
      "source": [
        "#Reading Cascade files\n",
        "face_cascade = cv2.CascadeClassifier('/content/drive/MyDrive/Projects/Image Classification/haarcascade_frontalface_default.xml')\n",
        "eye_cascade = cv2.CascadeClassifier('/content/drive/MyDrive/Projects/Image Classification/haarcascade_eye.xml')"
      ],
      "metadata": {
        "id": "HzAlu9PQYd7E"
      },
      "execution_count": 15,
      "outputs": []
    },
    {
      "cell_type": "markdown",
      "source": [
        "# **Preprocessing-1: Cropping the Facial region of image if eyes>=2**"
      ],
      "metadata": {
        "id": "VItFsdBrOAWO"
      }
    },
    {
      "cell_type": "code",
      "source": [
        "def get_cropped_image(path):            #Function to get face if min 2 eyes are visible\n",
        "    img = cv2.imread(path)              #Reading image from given path\n",
        "    gray = cv2.cvtColor(img, cv2.COLOR_BGR2GRAY)        #Converting color image to grayscale\n",
        "    faces = face_cascade.detectMultiScale(gray, 1.3, 5)          #Detecting face\n",
        "    for(x,y,w,h) in faces:\n",
        "        roi_gray = gray[y:y+h, x:x+h]\n",
        "        roi_color = img[y:y+h, x:x+h]\n",
        "        eyes = eye_cascade.detectMultiScale(roi_gray)\n",
        "        if len(eyes) >= 2:\n",
        "            return roi_color"
      ],
      "metadata": {
        "id": "DmgNwjQCYTa0"
      },
      "execution_count": 16,
      "outputs": []
    },
    {
      "cell_type": "markdown",
      "source": [
        "# **Preprocessing-2: Using wavelet transformation for feature extraction**"
      ],
      "metadata": {
        "id": "WWph0BBEO_tP"
      }
    },
    {
      "cell_type": "code",
      "source": [
        "def w2d(img, mode='haar', level=1):\n",
        "    imArray = img\n",
        "    #convert to grayscale\n",
        "    imArray = cv2.cvtColor( imArray,cv2.COLOR_RGB2GRAY )\n",
        "    #convert to float\n",
        "    imArray =  np.float32(imArray)\n",
        "    imArray /= 255;\n",
        "    # compute coefficients\n",
        "    coeffs=pywt.wavedec2(imArray, mode, level=level)\n",
        "\n",
        "    #Process Coefficients\n",
        "    coeffs_H=list(coeffs)\n",
        "    coeffs_H[0] *= 0;\n",
        "\n",
        "    # reconstruction\n",
        "    imArray_H=pywt.waverec2(coeffs_H, mode);\n",
        "    imArray_H *= 255;\n",
        "    imArray_H =  np.uint8(imArray_H)\n",
        "\n",
        "    return imArray_H"
      ],
      "metadata": {
        "id": "ofqmwUVLO9EL"
      },
      "execution_count": 86,
      "outputs": []
    },
    {
      "cell_type": "markdown",
      "source": [
        "# **Generating croped image in cropped folder**"
      ],
      "metadata": {
        "id": "04oqa1qZPwXv"
      }
    },
    {
      "cell_type": "code",
      "source": [
        "path_to_data = '/content/drive/MyDrive/Projects/Image Classification/Datasets'\n",
        "folder = 'cropped'\n",
        "path_to_cr_data = os.path.join(path_to_data,folder)\n",
        "path_to_cr_data"
      ],
      "metadata": {
        "colab": {
          "base_uri": "https://localhost:8080/",
          "height": 36
        },
        "id": "n4JHyqG1YYAH",
        "outputId": "42b2df25-5b77-4246-c729-161741a539a6"
      },
      "execution_count": 17,
      "outputs": [
        {
          "output_type": "execute_result",
          "data": {
            "text/plain": [
              "'/content/drive/MyDrive/Projects/Image Classification/Datasets/cropped'"
            ],
            "application/vnd.google.colaboratory.intrinsic+json": {
              "type": "string"
            }
          },
          "metadata": {},
          "execution_count": 17
        }
      ]
    },
    {
      "cell_type": "code",
      "source": [
        "img_dirs = []\n",
        "for entry in os.scandir(path_to_data):\n",
        "    if entry.is_dir():\n",
        "        img_dirs.append(entry.path)\n",
        "img_dirs"
      ],
      "metadata": {
        "colab": {
          "base_uri": "https://localhost:8080/"
        },
        "id": "o2x3q8IsZHza",
        "outputId": "9c3a72c3-c660-4929-daa3-3ef9d56a8b38"
      },
      "execution_count": 18,
      "outputs": [
        {
          "output_type": "execute_result",
          "data": {
            "text/plain": [
              "['/content/drive/MyDrive/Projects/Image Classification/Datasets/Ronaldo',\n",
              " '/content/drive/MyDrive/Projects/Image Classification/Datasets/Kohli',\n",
              " '/content/drive/MyDrive/Projects/Image Classification/Datasets/Messi',\n",
              " '/content/drive/MyDrive/Projects/Image Classification/Datasets/Sachin',\n",
              " '/content/drive/MyDrive/Projects/Image Classification/Datasets/Dhoni']"
            ]
          },
          "metadata": {},
          "execution_count": 18
        }
      ]
    },
    {
      "cell_type": "code",
      "source": [
        "#Creating cropped folder\n",
        "import shutil\n",
        "if os.path.exists(path_to_cr_data):\n",
        "    shutil.rmtree(path_to_cr_data)\n",
        "os.mkdir(path_to_cr_data)\n"
      ],
      "metadata": {
        "id": "L8_QDE3LZSaG"
      },
      "execution_count": 19,
      "outputs": []
    },
    {
      "cell_type": "code",
      "source": [
        "cropped_image_dirs = []\n",
        "celebrity_file_names_dict = {}\n",
        "\n",
        "for img_dir in img_dirs:\n",
        "    count = 1\n",
        "    celebrity_name = img_dir.split('/')[-1]\n",
        "\n",
        "    celebrity_file_names_dict[celebrity_name] = []\n",
        "    #print(celebrity_name)\n",
        "    for entry in os.scandir(img_dir):\n",
        "        roi_color = get_cropped_image(entry.path)\n",
        "        if roi_color is not None:\n",
        "            cropped_folder = os.path.join(path_to_cr_data, celebrity_name)\n",
        "            if not os.path.exists(cropped_folder):\n",
        "                os.mkdir(cropped_folder)\n",
        "                cropped_image_dirs.append(cropped_folder)\n",
        "\n",
        "            cropped_file_name = celebrity_name + str(count) + '.png'\n",
        "            cropped_file_path = cropped_folder + '/' + cropped_file_name\n",
        "\n",
        "            cv2.imwrite(cropped_file_path, roi_color)\n",
        "            celebrity_file_names_dict[celebrity_name].append(cropped_file_path)\n",
        "            count += 1"
      ],
      "metadata": {
        "id": "IAu8ZWJdaxID"
      },
      "execution_count": 21,
      "outputs": []
    },
    {
      "cell_type": "markdown",
      "source": [
        "# **Manually Examined cropped data and deleted irrevalent images**"
      ],
      "metadata": {
        "id": "C_NVXhJlQE7H"
      }
    },
    {
      "cell_type": "code",
      "source": [
        "#Saving the remaining file list after manual removal\n",
        "celebrity_file_names_dict = {}\n",
        "for img_dir in cropped_image_dirs:\n",
        "  celebrity_name = img_dir.split('/')[-1]\n",
        "  file_list = []\n",
        "  for entry in os.scandir(img_dir):\n",
        "    file_list.append(entry.path)\n",
        "  celebrity_file_names_dict[celebrity_name] = file_list\n",
        "celebrity_file_names_dict"
      ],
      "metadata": {
        "colab": {
          "base_uri": "https://localhost:8080/"
        },
        "id": "pMx8HFhQdMiN",
        "outputId": "68976584-c7e8-439d-d366-52d698ab5fbb"
      },
      "execution_count": 23,
      "outputs": [
        {
          "output_type": "execute_result",
          "data": {
            "text/plain": [
              "{'Ronaldo': ['/content/drive/MyDrive/Projects/Image Classification/Datasets/cropped/Ronaldo/Ronaldo1.png',\n",
              "  '/content/drive/MyDrive/Projects/Image Classification/Datasets/cropped/Ronaldo/Ronaldo3.png',\n",
              "  '/content/drive/MyDrive/Projects/Image Classification/Datasets/cropped/Ronaldo/Ronaldo4.png',\n",
              "  '/content/drive/MyDrive/Projects/Image Classification/Datasets/cropped/Ronaldo/Ronaldo5.png',\n",
              "  '/content/drive/MyDrive/Projects/Image Classification/Datasets/cropped/Ronaldo/Ronaldo6.png',\n",
              "  '/content/drive/MyDrive/Projects/Image Classification/Datasets/cropped/Ronaldo/Ronaldo7.png',\n",
              "  '/content/drive/MyDrive/Projects/Image Classification/Datasets/cropped/Ronaldo/Ronaldo8.png',\n",
              "  '/content/drive/MyDrive/Projects/Image Classification/Datasets/cropped/Ronaldo/Ronaldo9.png',\n",
              "  '/content/drive/MyDrive/Projects/Image Classification/Datasets/cropped/Ronaldo/Ronaldo10.png',\n",
              "  '/content/drive/MyDrive/Projects/Image Classification/Datasets/cropped/Ronaldo/Ronaldo11.png',\n",
              "  '/content/drive/MyDrive/Projects/Image Classification/Datasets/cropped/Ronaldo/Ronaldo12.png',\n",
              "  '/content/drive/MyDrive/Projects/Image Classification/Datasets/cropped/Ronaldo/Ronaldo13.png',\n",
              "  '/content/drive/MyDrive/Projects/Image Classification/Datasets/cropped/Ronaldo/Ronaldo14.png',\n",
              "  '/content/drive/MyDrive/Projects/Image Classification/Datasets/cropped/Ronaldo/Ronaldo15.png',\n",
              "  '/content/drive/MyDrive/Projects/Image Classification/Datasets/cropped/Ronaldo/Ronaldo17.png',\n",
              "  '/content/drive/MyDrive/Projects/Image Classification/Datasets/cropped/Ronaldo/Ronaldo18.png',\n",
              "  '/content/drive/MyDrive/Projects/Image Classification/Datasets/cropped/Ronaldo/Ronaldo19.png',\n",
              "  '/content/drive/MyDrive/Projects/Image Classification/Datasets/cropped/Ronaldo/Ronaldo20.png',\n",
              "  '/content/drive/MyDrive/Projects/Image Classification/Datasets/cropped/Ronaldo/Ronaldo21.png',\n",
              "  '/content/drive/MyDrive/Projects/Image Classification/Datasets/cropped/Ronaldo/Ronaldo22.png',\n",
              "  '/content/drive/MyDrive/Projects/Image Classification/Datasets/cropped/Ronaldo/Ronaldo23.png',\n",
              "  '/content/drive/MyDrive/Projects/Image Classification/Datasets/cropped/Ronaldo/Ronaldo24.png',\n",
              "  '/content/drive/MyDrive/Projects/Image Classification/Datasets/cropped/Ronaldo/Ronaldo25.png',\n",
              "  '/content/drive/MyDrive/Projects/Image Classification/Datasets/cropped/Ronaldo/Ronaldo26.png',\n",
              "  '/content/drive/MyDrive/Projects/Image Classification/Datasets/cropped/Ronaldo/Ronaldo27.png',\n",
              "  '/content/drive/MyDrive/Projects/Image Classification/Datasets/cropped/Ronaldo/Ronaldo28.png',\n",
              "  '/content/drive/MyDrive/Projects/Image Classification/Datasets/cropped/Ronaldo/Ronaldo29.png',\n",
              "  '/content/drive/MyDrive/Projects/Image Classification/Datasets/cropped/Ronaldo/Ronaldo30.png',\n",
              "  '/content/drive/MyDrive/Projects/Image Classification/Datasets/cropped/Ronaldo/Ronaldo31.png',\n",
              "  '/content/drive/MyDrive/Projects/Image Classification/Datasets/cropped/Ronaldo/Ronaldo32.png',\n",
              "  '/content/drive/MyDrive/Projects/Image Classification/Datasets/cropped/Ronaldo/Ronaldo33.png',\n",
              "  '/content/drive/MyDrive/Projects/Image Classification/Datasets/cropped/Ronaldo/Ronaldo34.png',\n",
              "  '/content/drive/MyDrive/Projects/Image Classification/Datasets/cropped/Ronaldo/Ronaldo35.png',\n",
              "  '/content/drive/MyDrive/Projects/Image Classification/Datasets/cropped/Ronaldo/Ronaldo36.png',\n",
              "  '/content/drive/MyDrive/Projects/Image Classification/Datasets/cropped/Ronaldo/Ronaldo37.png',\n",
              "  '/content/drive/MyDrive/Projects/Image Classification/Datasets/cropped/Ronaldo/Ronaldo38.png',\n",
              "  '/content/drive/MyDrive/Projects/Image Classification/Datasets/cropped/Ronaldo/Ronaldo39.png',\n",
              "  '/content/drive/MyDrive/Projects/Image Classification/Datasets/cropped/Ronaldo/Ronaldo40.png',\n",
              "  '/content/drive/MyDrive/Projects/Image Classification/Datasets/cropped/Ronaldo/Ronaldo41.png',\n",
              "  '/content/drive/MyDrive/Projects/Image Classification/Datasets/cropped/Ronaldo/Ronaldo43.png',\n",
              "  '/content/drive/MyDrive/Projects/Image Classification/Datasets/cropped/Ronaldo/Ronaldo44.png',\n",
              "  '/content/drive/MyDrive/Projects/Image Classification/Datasets/cropped/Ronaldo/Ronaldo45.png',\n",
              "  '/content/drive/MyDrive/Projects/Image Classification/Datasets/cropped/Ronaldo/Ronaldo46.png',\n",
              "  '/content/drive/MyDrive/Projects/Image Classification/Datasets/cropped/Ronaldo/Ronaldo47.png',\n",
              "  '/content/drive/MyDrive/Projects/Image Classification/Datasets/cropped/Ronaldo/Ronaldo48.png',\n",
              "  '/content/drive/MyDrive/Projects/Image Classification/Datasets/cropped/Ronaldo/Ronaldo49.png',\n",
              "  '/content/drive/MyDrive/Projects/Image Classification/Datasets/cropped/Ronaldo/Ronaldo50.png',\n",
              "  '/content/drive/MyDrive/Projects/Image Classification/Datasets/cropped/Ronaldo/Ronaldo51.png',\n",
              "  '/content/drive/MyDrive/Projects/Image Classification/Datasets/cropped/Ronaldo/Ronaldo52.png',\n",
              "  '/content/drive/MyDrive/Projects/Image Classification/Datasets/cropped/Ronaldo/Ronaldo53.png',\n",
              "  '/content/drive/MyDrive/Projects/Image Classification/Datasets/cropped/Ronaldo/Ronaldo54.png',\n",
              "  '/content/drive/MyDrive/Projects/Image Classification/Datasets/cropped/Ronaldo/Ronaldo55.png',\n",
              "  '/content/drive/MyDrive/Projects/Image Classification/Datasets/cropped/Ronaldo/Ronaldo56.png',\n",
              "  '/content/drive/MyDrive/Projects/Image Classification/Datasets/cropped/Ronaldo/Ronaldo57.png',\n",
              "  '/content/drive/MyDrive/Projects/Image Classification/Datasets/cropped/Ronaldo/Ronaldo58.png',\n",
              "  '/content/drive/MyDrive/Projects/Image Classification/Datasets/cropped/Ronaldo/Ronaldo59.png',\n",
              "  '/content/drive/MyDrive/Projects/Image Classification/Datasets/cropped/Ronaldo/Ronaldo60.png'],\n",
              " 'Kohli': ['/content/drive/MyDrive/Projects/Image Classification/Datasets/cropped/Kohli/Kohli1.png',\n",
              "  '/content/drive/MyDrive/Projects/Image Classification/Datasets/cropped/Kohli/Kohli3.png',\n",
              "  '/content/drive/MyDrive/Projects/Image Classification/Datasets/cropped/Kohli/Kohli5.png',\n",
              "  '/content/drive/MyDrive/Projects/Image Classification/Datasets/cropped/Kohli/Kohli6.png',\n",
              "  '/content/drive/MyDrive/Projects/Image Classification/Datasets/cropped/Kohli/Kohli7.png',\n",
              "  '/content/drive/MyDrive/Projects/Image Classification/Datasets/cropped/Kohli/Kohli8.png',\n",
              "  '/content/drive/MyDrive/Projects/Image Classification/Datasets/cropped/Kohli/Kohli10.png',\n",
              "  '/content/drive/MyDrive/Projects/Image Classification/Datasets/cropped/Kohli/Kohli11.png',\n",
              "  '/content/drive/MyDrive/Projects/Image Classification/Datasets/cropped/Kohli/Kohli13.png',\n",
              "  '/content/drive/MyDrive/Projects/Image Classification/Datasets/cropped/Kohli/Kohli14.png',\n",
              "  '/content/drive/MyDrive/Projects/Image Classification/Datasets/cropped/Kohli/Kohli15.png',\n",
              "  '/content/drive/MyDrive/Projects/Image Classification/Datasets/cropped/Kohli/Kohli16.png',\n",
              "  '/content/drive/MyDrive/Projects/Image Classification/Datasets/cropped/Kohli/Kohli17.png',\n",
              "  '/content/drive/MyDrive/Projects/Image Classification/Datasets/cropped/Kohli/Kohli18.png',\n",
              "  '/content/drive/MyDrive/Projects/Image Classification/Datasets/cropped/Kohli/Kohli19.png',\n",
              "  '/content/drive/MyDrive/Projects/Image Classification/Datasets/cropped/Kohli/Kohli20.png',\n",
              "  '/content/drive/MyDrive/Projects/Image Classification/Datasets/cropped/Kohli/Kohli21.png',\n",
              "  '/content/drive/MyDrive/Projects/Image Classification/Datasets/cropped/Kohli/Kohli22.png',\n",
              "  '/content/drive/MyDrive/Projects/Image Classification/Datasets/cropped/Kohli/Kohli23.png',\n",
              "  '/content/drive/MyDrive/Projects/Image Classification/Datasets/cropped/Kohli/Kohli24.png',\n",
              "  '/content/drive/MyDrive/Projects/Image Classification/Datasets/cropped/Kohli/Kohli25.png',\n",
              "  '/content/drive/MyDrive/Projects/Image Classification/Datasets/cropped/Kohli/Kohli26.png',\n",
              "  '/content/drive/MyDrive/Projects/Image Classification/Datasets/cropped/Kohli/Kohli27.png',\n",
              "  '/content/drive/MyDrive/Projects/Image Classification/Datasets/cropped/Kohli/Kohli28.png',\n",
              "  '/content/drive/MyDrive/Projects/Image Classification/Datasets/cropped/Kohli/Kohli29.png',\n",
              "  '/content/drive/MyDrive/Projects/Image Classification/Datasets/cropped/Kohli/Kohli30.png',\n",
              "  '/content/drive/MyDrive/Projects/Image Classification/Datasets/cropped/Kohli/Kohli31.png',\n",
              "  '/content/drive/MyDrive/Projects/Image Classification/Datasets/cropped/Kohli/Kohli32.png',\n",
              "  '/content/drive/MyDrive/Projects/Image Classification/Datasets/cropped/Kohli/Kohli33.png',\n",
              "  '/content/drive/MyDrive/Projects/Image Classification/Datasets/cropped/Kohli/Kohli34.png',\n",
              "  '/content/drive/MyDrive/Projects/Image Classification/Datasets/cropped/Kohli/Kohli36.png',\n",
              "  '/content/drive/MyDrive/Projects/Image Classification/Datasets/cropped/Kohli/Kohli37.png',\n",
              "  '/content/drive/MyDrive/Projects/Image Classification/Datasets/cropped/Kohli/Kohli38.png',\n",
              "  '/content/drive/MyDrive/Projects/Image Classification/Datasets/cropped/Kohli/Kohli39.png',\n",
              "  '/content/drive/MyDrive/Projects/Image Classification/Datasets/cropped/Kohli/Kohli40.png',\n",
              "  '/content/drive/MyDrive/Projects/Image Classification/Datasets/cropped/Kohli/Kohli42.png',\n",
              "  '/content/drive/MyDrive/Projects/Image Classification/Datasets/cropped/Kohli/Kohli43.png',\n",
              "  '/content/drive/MyDrive/Projects/Image Classification/Datasets/cropped/Kohli/Kohli44.png'],\n",
              " 'Messi': ['/content/drive/MyDrive/Projects/Image Classification/Datasets/cropped/Messi/Messi1.png',\n",
              "  '/content/drive/MyDrive/Projects/Image Classification/Datasets/cropped/Messi/Messi2.png',\n",
              "  '/content/drive/MyDrive/Projects/Image Classification/Datasets/cropped/Messi/Messi3.png',\n",
              "  '/content/drive/MyDrive/Projects/Image Classification/Datasets/cropped/Messi/Messi4.png',\n",
              "  '/content/drive/MyDrive/Projects/Image Classification/Datasets/cropped/Messi/Messi5.png',\n",
              "  '/content/drive/MyDrive/Projects/Image Classification/Datasets/cropped/Messi/Messi6.png',\n",
              "  '/content/drive/MyDrive/Projects/Image Classification/Datasets/cropped/Messi/Messi7.png',\n",
              "  '/content/drive/MyDrive/Projects/Image Classification/Datasets/cropped/Messi/Messi8.png',\n",
              "  '/content/drive/MyDrive/Projects/Image Classification/Datasets/cropped/Messi/Messi9.png',\n",
              "  '/content/drive/MyDrive/Projects/Image Classification/Datasets/cropped/Messi/Messi10.png',\n",
              "  '/content/drive/MyDrive/Projects/Image Classification/Datasets/cropped/Messi/Messi11.png',\n",
              "  '/content/drive/MyDrive/Projects/Image Classification/Datasets/cropped/Messi/Messi12.png',\n",
              "  '/content/drive/MyDrive/Projects/Image Classification/Datasets/cropped/Messi/Messi14.png',\n",
              "  '/content/drive/MyDrive/Projects/Image Classification/Datasets/cropped/Messi/Messi15.png',\n",
              "  '/content/drive/MyDrive/Projects/Image Classification/Datasets/cropped/Messi/Messi16.png',\n",
              "  '/content/drive/MyDrive/Projects/Image Classification/Datasets/cropped/Messi/Messi17.png',\n",
              "  '/content/drive/MyDrive/Projects/Image Classification/Datasets/cropped/Messi/Messi18.png',\n",
              "  '/content/drive/MyDrive/Projects/Image Classification/Datasets/cropped/Messi/Messi19.png',\n",
              "  '/content/drive/MyDrive/Projects/Image Classification/Datasets/cropped/Messi/Messi20.png',\n",
              "  '/content/drive/MyDrive/Projects/Image Classification/Datasets/cropped/Messi/Messi21.png',\n",
              "  '/content/drive/MyDrive/Projects/Image Classification/Datasets/cropped/Messi/Messi22.png',\n",
              "  '/content/drive/MyDrive/Projects/Image Classification/Datasets/cropped/Messi/Messi23.png',\n",
              "  '/content/drive/MyDrive/Projects/Image Classification/Datasets/cropped/Messi/Messi24.png',\n",
              "  '/content/drive/MyDrive/Projects/Image Classification/Datasets/cropped/Messi/Messi26.png',\n",
              "  '/content/drive/MyDrive/Projects/Image Classification/Datasets/cropped/Messi/Messi27.png',\n",
              "  '/content/drive/MyDrive/Projects/Image Classification/Datasets/cropped/Messi/Messi28.png',\n",
              "  '/content/drive/MyDrive/Projects/Image Classification/Datasets/cropped/Messi/Messi29.png',\n",
              "  '/content/drive/MyDrive/Projects/Image Classification/Datasets/cropped/Messi/Messi30.png',\n",
              "  '/content/drive/MyDrive/Projects/Image Classification/Datasets/cropped/Messi/Messi31.png',\n",
              "  '/content/drive/MyDrive/Projects/Image Classification/Datasets/cropped/Messi/Messi32.png',\n",
              "  '/content/drive/MyDrive/Projects/Image Classification/Datasets/cropped/Messi/Messi33.png',\n",
              "  '/content/drive/MyDrive/Projects/Image Classification/Datasets/cropped/Messi/Messi35.png',\n",
              "  '/content/drive/MyDrive/Projects/Image Classification/Datasets/cropped/Messi/Messi36.png',\n",
              "  '/content/drive/MyDrive/Projects/Image Classification/Datasets/cropped/Messi/Messi37.png',\n",
              "  '/content/drive/MyDrive/Projects/Image Classification/Datasets/cropped/Messi/Messi38.png'],\n",
              " 'Sachin': ['/content/drive/MyDrive/Projects/Image Classification/Datasets/cropped/Sachin/Sachin1.png',\n",
              "  '/content/drive/MyDrive/Projects/Image Classification/Datasets/cropped/Sachin/Sachin2.png',\n",
              "  '/content/drive/MyDrive/Projects/Image Classification/Datasets/cropped/Sachin/Sachin3.png',\n",
              "  '/content/drive/MyDrive/Projects/Image Classification/Datasets/cropped/Sachin/Sachin4.png',\n",
              "  '/content/drive/MyDrive/Projects/Image Classification/Datasets/cropped/Sachin/Sachin5.png',\n",
              "  '/content/drive/MyDrive/Projects/Image Classification/Datasets/cropped/Sachin/Sachin6.png',\n",
              "  '/content/drive/MyDrive/Projects/Image Classification/Datasets/cropped/Sachin/Sachin8.png',\n",
              "  '/content/drive/MyDrive/Projects/Image Classification/Datasets/cropped/Sachin/Sachin9.png',\n",
              "  '/content/drive/MyDrive/Projects/Image Classification/Datasets/cropped/Sachin/Sachin10.png',\n",
              "  '/content/drive/MyDrive/Projects/Image Classification/Datasets/cropped/Sachin/Sachin11.png',\n",
              "  '/content/drive/MyDrive/Projects/Image Classification/Datasets/cropped/Sachin/Sachin12.png',\n",
              "  '/content/drive/MyDrive/Projects/Image Classification/Datasets/cropped/Sachin/Sachin13.png',\n",
              "  '/content/drive/MyDrive/Projects/Image Classification/Datasets/cropped/Sachin/Sachin14.png',\n",
              "  '/content/drive/MyDrive/Projects/Image Classification/Datasets/cropped/Sachin/Sachin15.png',\n",
              "  '/content/drive/MyDrive/Projects/Image Classification/Datasets/cropped/Sachin/Sachin16.png',\n",
              "  '/content/drive/MyDrive/Projects/Image Classification/Datasets/cropped/Sachin/Sachin17.png',\n",
              "  '/content/drive/MyDrive/Projects/Image Classification/Datasets/cropped/Sachin/Sachin18.png',\n",
              "  '/content/drive/MyDrive/Projects/Image Classification/Datasets/cropped/Sachin/Sachin19.png',\n",
              "  '/content/drive/MyDrive/Projects/Image Classification/Datasets/cropped/Sachin/Sachin20.png',\n",
              "  '/content/drive/MyDrive/Projects/Image Classification/Datasets/cropped/Sachin/Sachin21.png',\n",
              "  '/content/drive/MyDrive/Projects/Image Classification/Datasets/cropped/Sachin/Sachin22.png',\n",
              "  '/content/drive/MyDrive/Projects/Image Classification/Datasets/cropped/Sachin/Sachin23.png',\n",
              "  '/content/drive/MyDrive/Projects/Image Classification/Datasets/cropped/Sachin/Sachin24.png',\n",
              "  '/content/drive/MyDrive/Projects/Image Classification/Datasets/cropped/Sachin/Sachin25.png',\n",
              "  '/content/drive/MyDrive/Projects/Image Classification/Datasets/cropped/Sachin/Sachin26.png',\n",
              "  '/content/drive/MyDrive/Projects/Image Classification/Datasets/cropped/Sachin/Sachin27.png',\n",
              "  '/content/drive/MyDrive/Projects/Image Classification/Datasets/cropped/Sachin/Sachin28.png',\n",
              "  '/content/drive/MyDrive/Projects/Image Classification/Datasets/cropped/Sachin/Sachin29.png',\n",
              "  '/content/drive/MyDrive/Projects/Image Classification/Datasets/cropped/Sachin/Sachin30.png',\n",
              "  '/content/drive/MyDrive/Projects/Image Classification/Datasets/cropped/Sachin/Sachin32.png',\n",
              "  '/content/drive/MyDrive/Projects/Image Classification/Datasets/cropped/Sachin/Sachin34.png',\n",
              "  '/content/drive/MyDrive/Projects/Image Classification/Datasets/cropped/Sachin/Sachin35.png',\n",
              "  '/content/drive/MyDrive/Projects/Image Classification/Datasets/cropped/Sachin/Sachin36.png'],\n",
              " 'Dhoni': ['/content/drive/MyDrive/Projects/Image Classification/Datasets/cropped/Dhoni/Dhoni1.png',\n",
              "  '/content/drive/MyDrive/Projects/Image Classification/Datasets/cropped/Dhoni/Dhoni2.png',\n",
              "  '/content/drive/MyDrive/Projects/Image Classification/Datasets/cropped/Dhoni/Dhoni3.png',\n",
              "  '/content/drive/MyDrive/Projects/Image Classification/Datasets/cropped/Dhoni/Dhoni4.png',\n",
              "  '/content/drive/MyDrive/Projects/Image Classification/Datasets/cropped/Dhoni/Dhoni6.png',\n",
              "  '/content/drive/MyDrive/Projects/Image Classification/Datasets/cropped/Dhoni/Dhoni7.png',\n",
              "  '/content/drive/MyDrive/Projects/Image Classification/Datasets/cropped/Dhoni/Dhoni8.png',\n",
              "  '/content/drive/MyDrive/Projects/Image Classification/Datasets/cropped/Dhoni/Dhoni9.png',\n",
              "  '/content/drive/MyDrive/Projects/Image Classification/Datasets/cropped/Dhoni/Dhoni10.png',\n",
              "  '/content/drive/MyDrive/Projects/Image Classification/Datasets/cropped/Dhoni/Dhoni12.png',\n",
              "  '/content/drive/MyDrive/Projects/Image Classification/Datasets/cropped/Dhoni/Dhoni13.png',\n",
              "  '/content/drive/MyDrive/Projects/Image Classification/Datasets/cropped/Dhoni/Dhoni17.png',\n",
              "  '/content/drive/MyDrive/Projects/Image Classification/Datasets/cropped/Dhoni/Dhoni20.png',\n",
              "  '/content/drive/MyDrive/Projects/Image Classification/Datasets/cropped/Dhoni/Dhoni21.png',\n",
              "  '/content/drive/MyDrive/Projects/Image Classification/Datasets/cropped/Dhoni/Dhoni22.png',\n",
              "  '/content/drive/MyDrive/Projects/Image Classification/Datasets/cropped/Dhoni/Dhoni23.png',\n",
              "  '/content/drive/MyDrive/Projects/Image Classification/Datasets/cropped/Dhoni/Dhoni24.png',\n",
              "  '/content/drive/MyDrive/Projects/Image Classification/Datasets/cropped/Dhoni/Dhoni25.png',\n",
              "  '/content/drive/MyDrive/Projects/Image Classification/Datasets/cropped/Dhoni/Dhoni26.png',\n",
              "  '/content/drive/MyDrive/Projects/Image Classification/Datasets/cropped/Dhoni/Dhoni27.png',\n",
              "  '/content/drive/MyDrive/Projects/Image Classification/Datasets/cropped/Dhoni/Dhoni28.png',\n",
              "  '/content/drive/MyDrive/Projects/Image Classification/Datasets/cropped/Dhoni/Dhoni29.png',\n",
              "  '/content/drive/MyDrive/Projects/Image Classification/Datasets/cropped/Dhoni/Dhoni30.png']}"
            ]
          },
          "metadata": {},
          "execution_count": 23
        }
      ]
    },
    {
      "cell_type": "code",
      "source": [
        "#Defing key values for sports person\n",
        "class_dict = {}\n",
        "count = 0\n",
        "for celebrity_name in celebrity_file_names_dict.keys():\n",
        "    class_dict[celebrity_name] = count\n",
        "    count = count + 1\n",
        "class_dict"
      ],
      "metadata": {
        "colab": {
          "base_uri": "https://localhost:8080/"
        },
        "id": "0pbOtZqY3ldq",
        "outputId": "cc34fff9-0617-407a-9e4d-158328d9e3ed"
      },
      "execution_count": 36,
      "outputs": [
        {
          "output_type": "execute_result",
          "data": {
            "text/plain": [
              "{'Ronaldo': 0, 'Kohli': 1, 'Messi': 2, 'Sachin': 3, 'Dhoni': 4}"
            ]
          },
          "metadata": {},
          "execution_count": 36
        }
      ]
    },
    {
      "cell_type": "markdown",
      "source": [
        "# **Generating labeled data combinning both raw images and wavelet transformed images for model training**"
      ],
      "metadata": {
        "id": "Bh20Kr7pQi4F"
      }
    },
    {
      "cell_type": "code",
      "source": [
        "X, y = [], []\n",
        "for celebrity_name, training_files in celebrity_file_names_dict.items():\n",
        "    for training_image in training_files:\n",
        "        img = cv2.imread(training_image)      #Reading cropped image\n",
        "        scalled_raw_img = cv2.resize(img, (32, 32))       #Scailing the cropped images\n",
        "        img_har = w2d(img,'db1',5)          #wavelet Transformation\n",
        "        scalled_img_har = cv2.resize(img_har, (32, 32))       #Scaling wavelet transformed image\n",
        "        combined_img = np.vstack((scalled_raw_img.reshape(32*32*3,1),scalled_img_har.reshape(32*32,1)))\n",
        "        X.append(combined_img)\n",
        "        y.append(class_dict[celebrity_name])    #Labeling images"
      ],
      "metadata": {
        "id": "PciKkv9Mx695"
      },
      "execution_count": 66,
      "outputs": []
    },
    {
      "cell_type": "code",
      "source": [
        "len(y)"
      ],
      "metadata": {
        "colab": {
          "base_uri": "https://localhost:8080/"
        },
        "id": "vcopeRjBAeTC",
        "outputId": "3d5a69aa-e0e9-472b-8c24-e66be21ed6f3"
      },
      "execution_count": 63,
      "outputs": [
        {
          "output_type": "execute_result",
          "data": {
            "text/plain": [
              "186"
            ]
          },
          "metadata": {},
          "execution_count": 63
        }
      ]
    },
    {
      "cell_type": "code",
      "source": [
        "X = np.array(X).reshape(len(X), 4096).astype(float)\n",
        "X.shape"
      ],
      "metadata": {
        "colab": {
          "base_uri": "https://localhost:8080/"
        },
        "id": "BoLhg84H0Q35",
        "outputId": "521a6848-9afa-401d-cbac-5eaefa924a38"
      },
      "execution_count": 70,
      "outputs": [
        {
          "output_type": "execute_result",
          "data": {
            "text/plain": [
              "(186, 4096)"
            ]
          },
          "metadata": {},
          "execution_count": 70
        }
      ]
    },
    {
      "cell_type": "code",
      "source": [
        "X[0]"
      ],
      "metadata": {
        "colab": {
          "base_uri": "https://localhost:8080/"
        },
        "id": "5rVtaDG5A0I7",
        "outputId": "dd6b834e-f5f7-40fc-b7d3-77489b39e678"
      },
      "execution_count": 71,
      "outputs": [
        {
          "output_type": "execute_result",
          "data": {
            "text/plain": [
              "array([42., 26., 20., ...,  2.,  6.,  1.])"
            ]
          },
          "metadata": {},
          "execution_count": 71
        }
      ]
    },
    {
      "cell_type": "markdown",
      "source": [
        "# **ML model training**"
      ],
      "metadata": {
        "id": "M50i6nhQQ1uw"
      }
    },
    {
      "cell_type": "code",
      "source": [
        "from sklearn.svm import SVC\n",
        "from sklearn.preprocessing import StandardScaler\n",
        "from sklearn.model_selection import train_test_split\n",
        "from sklearn.pipeline import Pipeline\n",
        "from sklearn.metrics import classification_report"
      ],
      "metadata": {
        "id": "1aBfE86s6nHA"
      },
      "execution_count": 61,
      "outputs": []
    },
    {
      "cell_type": "code",
      "source": [
        "#Model Generation Using SVM\n",
        "X_train, X_test, y_train, y_test = train_test_split(X, y, random_state=0)\n",
        "\n",
        "pipe = Pipeline([('scaler', StandardScaler()), ('svc', SVC(kernel = 'rbf', C = 10))])\n",
        "pipe.fit(X_train, y_train)\n",
        "pipe.score(X_test, y_test)"
      ],
      "metadata": {
        "colab": {
          "base_uri": "https://localhost:8080/"
        },
        "id": "RQENOUVp7WZG",
        "outputId": "03a20446-78eb-4633-adbe-87a3620622e0"
      },
      "execution_count": 72,
      "outputs": [
        {
          "output_type": "execute_result",
          "data": {
            "text/plain": [
              "0.723404255319149"
            ]
          },
          "metadata": {},
          "execution_count": 72
        }
      ]
    },
    {
      "cell_type": "markdown",
      "source": [
        "# **Using Grid search CV to come up with best model and best fine tuned parameters**"
      ],
      "metadata": {
        "id": "f8bJaliWRAnO"
      }
    },
    {
      "cell_type": "code",
      "source": [
        "from sklearn import svm\n",
        "from sklearn.ensemble import RandomForestClassifier\n",
        "from sklearn.linear_model import LogisticRegression\n",
        "from sklearn.pipeline import make_pipeline\n",
        "from sklearn.model_selection import GridSearchCV"
      ],
      "metadata": {
        "id": "J1M3jovE8fja"
      },
      "execution_count": 73,
      "outputs": []
    },
    {
      "cell_type": "code",
      "source": [
        "model_params = {\n",
        "    'svm': {\n",
        "        'model': svm.SVC(gamma='auto',probability=True),\n",
        "        'params' : {\n",
        "            'svc__C': [1,10,100,1000],\n",
        "            'svc__kernel': ['rbf','linear']\n",
        "        }\n",
        "    },\n",
        "    'random_forest': {\n",
        "        'model': RandomForestClassifier(),\n",
        "        'params' : {\n",
        "            'randomforestclassifier__n_estimators': [1,5,10]\n",
        "        }\n",
        "    },\n",
        "    'logistic_regression' : {\n",
        "        'model': LogisticRegression(solver='liblinear',multi_class='auto'),\n",
        "        'params': {\n",
        "            'logisticregression__C': [1,5,10]\n",
        "        }\n",
        "    }\n",
        "}"
      ],
      "metadata": {
        "id": "OG3SXLqXBwq3"
      },
      "execution_count": 74,
      "outputs": []
    },
    {
      "cell_type": "code",
      "source": [
        "scores = []\n",
        "best_estimators = {}\n",
        "import pandas as pd\n",
        "for algo, mp in model_params.items():\n",
        "    pipe = make_pipeline(StandardScaler(), mp['model'])\n",
        "    clf =  GridSearchCV(pipe, mp['params'], cv=5, return_train_score=False)\n",
        "    clf.fit(X_train, y_train)\n",
        "    scores.append({\n",
        "        'model': algo,\n",
        "        'best_score': clf.best_score_,\n",
        "        'best_params': clf.best_params_\n",
        "    })\n",
        "    best_estimators[algo] = clf.best_estimator_\n",
        "\n",
        "df = pd.DataFrame(scores,columns=['model','best_score','best_params'])\n",
        "df"
      ],
      "metadata": {
        "colab": {
          "base_uri": "https://localhost:8080/",
          "height": 143
        },
        "id": "WFDMIktUB0RM",
        "outputId": "02337d12-4468-4e78-e532-0df350def601"
      },
      "execution_count": 75,
      "outputs": [
        {
          "output_type": "execute_result",
          "data": {
            "text/plain": [
              "                 model  best_score  \\\n",
              "0                  svm    0.704497   \n",
              "1        random_forest    0.596825   \n",
              "2  logistic_regression    0.697619   \n",
              "\n",
              "                                    best_params  \n",
              "0        {'svc__C': 1, 'svc__kernel': 'linear'}  \n",
              "1  {'randomforestclassifier__n_estimators': 10}  \n",
              "2                  {'logisticregression__C': 1}  "
            ],
            "text/html": [
              "\n",
              "\n",
              "  <div id=\"df-4581674f-efff-479b-a6bf-85c128fd8bd9\">\n",
              "    <div class=\"colab-df-container\">\n",
              "      <div>\n",
              "<style scoped>\n",
              "    .dataframe tbody tr th:only-of-type {\n",
              "        vertical-align: middle;\n",
              "    }\n",
              "\n",
              "    .dataframe tbody tr th {\n",
              "        vertical-align: top;\n",
              "    }\n",
              "\n",
              "    .dataframe thead th {\n",
              "        text-align: right;\n",
              "    }\n",
              "</style>\n",
              "<table border=\"1\" class=\"dataframe\">\n",
              "  <thead>\n",
              "    <tr style=\"text-align: right;\">\n",
              "      <th></th>\n",
              "      <th>model</th>\n",
              "      <th>best_score</th>\n",
              "      <th>best_params</th>\n",
              "    </tr>\n",
              "  </thead>\n",
              "  <tbody>\n",
              "    <tr>\n",
              "      <th>0</th>\n",
              "      <td>svm</td>\n",
              "      <td>0.704497</td>\n",
              "      <td>{'svc__C': 1, 'svc__kernel': 'linear'}</td>\n",
              "    </tr>\n",
              "    <tr>\n",
              "      <th>1</th>\n",
              "      <td>random_forest</td>\n",
              "      <td>0.596825</td>\n",
              "      <td>{'randomforestclassifier__n_estimators': 10}</td>\n",
              "    </tr>\n",
              "    <tr>\n",
              "      <th>2</th>\n",
              "      <td>logistic_regression</td>\n",
              "      <td>0.697619</td>\n",
              "      <td>{'logisticregression__C': 1}</td>\n",
              "    </tr>\n",
              "  </tbody>\n",
              "</table>\n",
              "</div>\n",
              "      <button class=\"colab-df-convert\" onclick=\"convertToInteractive('df-4581674f-efff-479b-a6bf-85c128fd8bd9')\"\n",
              "              title=\"Convert this dataframe to an interactive table.\"\n",
              "              style=\"display:none;\">\n",
              "\n",
              "  <svg xmlns=\"http://www.w3.org/2000/svg\" height=\"24px\"viewBox=\"0 0 24 24\"\n",
              "       width=\"24px\">\n",
              "    <path d=\"M0 0h24v24H0V0z\" fill=\"none\"/>\n",
              "    <path d=\"M18.56 5.44l.94 2.06.94-2.06 2.06-.94-2.06-.94-.94-2.06-.94 2.06-2.06.94zm-11 1L8.5 8.5l.94-2.06 2.06-.94-2.06-.94L8.5 2.5l-.94 2.06-2.06.94zm10 10l.94 2.06.94-2.06 2.06-.94-2.06-.94-.94-2.06-.94 2.06-2.06.94z\"/><path d=\"M17.41 7.96l-1.37-1.37c-.4-.4-.92-.59-1.43-.59-.52 0-1.04.2-1.43.59L10.3 9.45l-7.72 7.72c-.78.78-.78 2.05 0 2.83L4 21.41c.39.39.9.59 1.41.59.51 0 1.02-.2 1.41-.59l7.78-7.78 2.81-2.81c.8-.78.8-2.07 0-2.86zM5.41 20L4 18.59l7.72-7.72 1.47 1.35L5.41 20z\"/>\n",
              "  </svg>\n",
              "      </button>\n",
              "\n",
              "\n",
              "\n",
              "    <div id=\"df-60007499-5199-4882-83dd-ba939c4e7d24\">\n",
              "      <button class=\"colab-df-quickchart\" onclick=\"quickchart('df-60007499-5199-4882-83dd-ba939c4e7d24')\"\n",
              "              title=\"Suggest charts.\"\n",
              "              style=\"display:none;\">\n",
              "\n",
              "<svg xmlns=\"http://www.w3.org/2000/svg\" height=\"24px\"viewBox=\"0 0 24 24\"\n",
              "     width=\"24px\">\n",
              "    <g>\n",
              "        <path d=\"M19 3H5c-1.1 0-2 .9-2 2v14c0 1.1.9 2 2 2h14c1.1 0 2-.9 2-2V5c0-1.1-.9-2-2-2zM9 17H7v-7h2v7zm4 0h-2V7h2v10zm4 0h-2v-4h2v4z\"/>\n",
              "    </g>\n",
              "</svg>\n",
              "      </button>\n",
              "    </div>\n",
              "\n",
              "<style>\n",
              "  .colab-df-quickchart {\n",
              "    background-color: #E8F0FE;\n",
              "    border: none;\n",
              "    border-radius: 50%;\n",
              "    cursor: pointer;\n",
              "    display: none;\n",
              "    fill: #1967D2;\n",
              "    height: 32px;\n",
              "    padding: 0 0 0 0;\n",
              "    width: 32px;\n",
              "  }\n",
              "\n",
              "  .colab-df-quickchart:hover {\n",
              "    background-color: #E2EBFA;\n",
              "    box-shadow: 0px 1px 2px rgba(60, 64, 67, 0.3), 0px 1px 3px 1px rgba(60, 64, 67, 0.15);\n",
              "    fill: #174EA6;\n",
              "  }\n",
              "\n",
              "  [theme=dark] .colab-df-quickchart {\n",
              "    background-color: #3B4455;\n",
              "    fill: #D2E3FC;\n",
              "  }\n",
              "\n",
              "  [theme=dark] .colab-df-quickchart:hover {\n",
              "    background-color: #434B5C;\n",
              "    box-shadow: 0px 1px 3px 1px rgba(0, 0, 0, 0.15);\n",
              "    filter: drop-shadow(0px 1px 2px rgba(0, 0, 0, 0.3));\n",
              "    fill: #FFFFFF;\n",
              "  }\n",
              "</style>\n",
              "\n",
              "    <script>\n",
              "      async function quickchart(key) {\n",
              "        const containerElement = document.querySelector('#' + key);\n",
              "        const charts = await google.colab.kernel.invokeFunction(\n",
              "            'suggestCharts', [key], {});\n",
              "      }\n",
              "    </script>\n",
              "\n",
              "      <script>\n",
              "\n",
              "function displayQuickchartButton(domScope) {\n",
              "  let quickchartButtonEl =\n",
              "    domScope.querySelector('#df-60007499-5199-4882-83dd-ba939c4e7d24 button.colab-df-quickchart');\n",
              "  quickchartButtonEl.style.display =\n",
              "    google.colab.kernel.accessAllowed ? 'block' : 'none';\n",
              "}\n",
              "\n",
              "        displayQuickchartButton(document);\n",
              "      </script>\n",
              "      <style>\n",
              "    .colab-df-container {\n",
              "      display:flex;\n",
              "      flex-wrap:wrap;\n",
              "      gap: 12px;\n",
              "    }\n",
              "\n",
              "    .colab-df-convert {\n",
              "      background-color: #E8F0FE;\n",
              "      border: none;\n",
              "      border-radius: 50%;\n",
              "      cursor: pointer;\n",
              "      display: none;\n",
              "      fill: #1967D2;\n",
              "      height: 32px;\n",
              "      padding: 0 0 0 0;\n",
              "      width: 32px;\n",
              "    }\n",
              "\n",
              "    .colab-df-convert:hover {\n",
              "      background-color: #E2EBFA;\n",
              "      box-shadow: 0px 1px 2px rgba(60, 64, 67, 0.3), 0px 1px 3px 1px rgba(60, 64, 67, 0.15);\n",
              "      fill: #174EA6;\n",
              "    }\n",
              "\n",
              "    [theme=dark] .colab-df-convert {\n",
              "      background-color: #3B4455;\n",
              "      fill: #D2E3FC;\n",
              "    }\n",
              "\n",
              "    [theme=dark] .colab-df-convert:hover {\n",
              "      background-color: #434B5C;\n",
              "      box-shadow: 0px 1px 3px 1px rgba(0, 0, 0, 0.15);\n",
              "      filter: drop-shadow(0px 1px 2px rgba(0, 0, 0, 0.3));\n",
              "      fill: #FFFFFF;\n",
              "    }\n",
              "  </style>\n",
              "\n",
              "      <script>\n",
              "        const buttonEl =\n",
              "          document.querySelector('#df-4581674f-efff-479b-a6bf-85c128fd8bd9 button.colab-df-convert');\n",
              "        buttonEl.style.display =\n",
              "          google.colab.kernel.accessAllowed ? 'block' : 'none';\n",
              "\n",
              "        async function convertToInteractive(key) {\n",
              "          const element = document.querySelector('#df-4581674f-efff-479b-a6bf-85c128fd8bd9');\n",
              "          const dataTable =\n",
              "            await google.colab.kernel.invokeFunction('convertToInteractive',\n",
              "                                                     [key], {});\n",
              "          if (!dataTable) return;\n",
              "\n",
              "          const docLinkHtml = 'Like what you see? Visit the ' +\n",
              "            '<a target=\"_blank\" href=https://colab.research.google.com/notebooks/data_table.ipynb>data table notebook</a>'\n",
              "            + ' to learn more about interactive tables.';\n",
              "          element.innerHTML = '';\n",
              "          dataTable['output_type'] = 'display_data';\n",
              "          await google.colab.output.renderOutput(dataTable, element);\n",
              "          const docLink = document.createElement('div');\n",
              "          docLink.innerHTML = docLinkHtml;\n",
              "          element.appendChild(docLink);\n",
              "        }\n",
              "      </script>\n",
              "    </div>\n",
              "  </div>\n"
            ]
          },
          "metadata": {},
          "execution_count": 75
        }
      ]
    },
    {
      "cell_type": "code",
      "source": [
        "best_estimators['svm'].score(X_test,y_test)"
      ],
      "metadata": {
        "colab": {
          "base_uri": "https://localhost:8080/"
        },
        "id": "Xye42wkSB347",
        "outputId": "6184f6dc-3fc2-468e-e1fe-d5a36215e5b6"
      },
      "execution_count": 76,
      "outputs": [
        {
          "output_type": "execute_result",
          "data": {
            "text/plain": [
              "0.7659574468085106"
            ]
          },
          "metadata": {},
          "execution_count": 76
        }
      ]
    },
    {
      "cell_type": "code",
      "source": [
        "best_estimators['random_forest'].score(X_test,y_test)"
      ],
      "metadata": {
        "colab": {
          "base_uri": "https://localhost:8080/"
        },
        "id": "RoCmLVSgIb-O",
        "outputId": "d68d8252-a167-49cf-b367-2371fbdf72d2"
      },
      "execution_count": 77,
      "outputs": [
        {
          "output_type": "execute_result",
          "data": {
            "text/plain": [
              "0.5531914893617021"
            ]
          },
          "metadata": {},
          "execution_count": 77
        }
      ]
    },
    {
      "cell_type": "code",
      "source": [
        "best_estimators['logistic_regression'].score(X_test,y_test)"
      ],
      "metadata": {
        "colab": {
          "base_uri": "https://localhost:8080/"
        },
        "id": "5teNdSHXIfoX",
        "outputId": "ccb8303e-809a-40e2-d97a-011d74642fd7"
      },
      "execution_count": 78,
      "outputs": [
        {
          "output_type": "execute_result",
          "data": {
            "text/plain": [
              "0.8085106382978723"
            ]
          },
          "metadata": {},
          "execution_count": 78
        }
      ]
    },
    {
      "cell_type": "code",
      "source": [
        "best_clf = best_estimators['svm']"
      ],
      "metadata": {
        "id": "1t5GahvzIjLZ"
      },
      "execution_count": 79,
      "outputs": []
    },
    {
      "cell_type": "code",
      "source": [
        "from sklearn.metrics import confusion_matrix\n",
        "cm = confusion_matrix(y_test, best_clf.predict(X_test))\n",
        "cm"
      ],
      "metadata": {
        "colab": {
          "base_uri": "https://localhost:8080/"
        },
        "id": "rm5erAUIJG2e",
        "outputId": "c6f06aa0-c889-4e60-d193-c10130c44270"
      },
      "execution_count": 80,
      "outputs": [
        {
          "output_type": "execute_result",
          "data": {
            "text/plain": [
              "array([[12,  0,  0,  1,  1],\n",
              "       [ 1,  7,  0,  0,  0],\n",
              "       [ 2,  0,  6,  0,  0],\n",
              "       [ 1,  0,  1,  7,  1],\n",
              "       [ 1,  0,  1,  1,  4]])"
            ]
          },
          "metadata": {},
          "execution_count": 80
        }
      ]
    },
    {
      "cell_type": "code",
      "source": [
        "#Generating heat maps\n",
        "import seaborn as sn\n",
        "plt.figure(figsize = (10,7))\n",
        "sn.heatmap(cm, annot=True)\n",
        "plt.xlabel('Predicted')\n",
        "plt.ylabel('Truth')"
      ],
      "metadata": {
        "colab": {
          "base_uri": "https://localhost:8080/",
          "height": 642
        },
        "id": "sylxY1BmJKBz",
        "outputId": "5bdc689a-e627-42e0-d4d5-ac8eebbbd819"
      },
      "execution_count": 81,
      "outputs": [
        {
          "output_type": "execute_result",
          "data": {
            "text/plain": [
              "Text(95.72222222222221, 0.5, 'Truth')"
            ]
          },
          "metadata": {},
          "execution_count": 81
        },
        {
          "output_type": "display_data",
          "data": {
            "text/plain": [
              "<Figure size 1000x700 with 2 Axes>"
            ],
            "image/png": "[encoded data removed]"
          },
          "metadata": {}
        }
      ]
    },
    {
      "cell_type": "markdown",
      "source": [
        "# **Saving the trained model**"
      ],
      "metadata": {
        "id": "Eer-fn6QRVYJ"
      }
    },
    {
      "cell_type": "code",
      "source": [
        "import joblib\n",
        "# Save the model as a pickle in a file\n",
        "joblib.dump(best_clf, '/content/drive/MyDrive/Projects/Image Classification/saved_model.pkl')"
      ],
      "metadata": {
        "colab": {
          "base_uri": "https://localhost:8080/"
        },
        "id": "WW-kHp_yJNQ3",
        "outputId": "267f43d8-3dcf-4aed-9c79-45d827325b8f"
      },
      "execution_count": 84,
      "outputs": [
        {
          "output_type": "execute_result",
          "data": {
            "text/plain": [
              "['/content/drive/MyDrive/Projects/Image Classification/saved_model.pkl']"
            ]
          },
          "metadata": {},
          "execution_count": 84
        }
      ]
    },
    {
      "cell_type": "code",
      "source": [
        "#Saving Class dict\n",
        "import json\n",
        "with open(\"/content/drive/MyDrive/Projects/Image Classification/class_dictionary.json\",\"w\") as f:\n",
        "    f.write(json.dumps(class_dict))"
      ],
      "metadata": {
        "id": "XCPlUyPiJYNL"
      },
      "execution_count": 85,
      "outputs": []
    }
  ]
}